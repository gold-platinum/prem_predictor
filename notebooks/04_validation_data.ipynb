{
 "cells": [
  {
   "metadata": {},
   "cell_type": "markdown",
   "source": "# 04. Validation Data",
   "id": "b705f337512ae9f8"
  },
  {
   "metadata": {
    "ExecuteTime": {
     "end_time": "2025-08-25T23:33:40.472888Z",
     "start_time": "2025-08-25T23:33:40.469340Z"
    }
   },
   "cell_type": "code",
   "source": [
    "# Importing libraries\n",
    "import pandas as pd\n",
    "from bs4 import BeautifulSoup\n",
    "import requests"
   ],
   "id": "398b62ef7c8aec81",
   "outputs": [],
   "execution_count": 8
  },
  {
   "metadata": {
    "ExecuteTime": {
     "end_time": "2025-08-25T23:33:44.616644Z",
     "start_time": "2025-08-25T23:33:42.705242Z"
    }
   },
   "cell_type": "code",
   "source": [
    "# Scraping 2024-25 season results\n",
    "df = None\n",
    "\n",
    "url = \"https://fbref.com/en/comps/9/2024-2025/schedule/2024-2025-Premier-League-Scores-and-Fixtures\"\n",
    "    \n",
    "try:\n",
    "    response = requests.get(url)\n",
    "    soup = BeautifulSoup(response.content, 'html.parser')\n",
    "        \n",
    "    # Find the scores table\n",
    "    table = soup.find('table', {'id': 'sched_2024-2025_9_1'})\n",
    "\n",
    "        \n",
    "    matches = []\n",
    "    rows = table.find_all('tr')\n",
    "        \n",
    "    for row in rows[1:]:  # Skip header\n",
    "        cols = row.find_all(['td', 'th'])\n",
    "        if len(cols) >= 9:\n",
    "            # Extract match data\n",
    "            date = cols[0].text.strip()\n",
    "            home_team = cols[4].text.strip()\n",
    "            score = cols[5].text.strip()\n",
    "            away_team = cols[6].text.strip()\n",
    "                \n",
    "            # Parse score to determine result\n",
    "            if score and '–' in score:\n",
    "                home_goals, away_goals = score.split('–')\n",
    "                home_goals = int(home_goals.strip())\n",
    "                away_goals = int(away_goals.strip())\n",
    "                    \n",
    "                if home_goals > away_goals:\n",
    "                    result = 'H'\n",
    "                elif home_goals < away_goals:\n",
    "                    result = 'A'\n",
    "                else:\n",
    "                    result = 'D'\n",
    "                    \n",
    "                matches.append({\n",
    "                    'Date': date,\n",
    "                    'Home_Team': home_team,\n",
    "                    'Away_Team': away_team,\n",
    "                    'Home_Goals': home_goals,\n",
    "                    'Away_Goals': away_goals,\n",
    "                    'Result': result\n",
    "                })\n",
    "        \n",
    "    df = pd.DataFrame(matches)\n",
    "    print(f\"✅ Scraped {len(df)} matches from FBref\")\n",
    "    \n",
    "except Exception as e:\n",
    "    print(f\"❌ Error scraping FBref: {e}\")"
   ],
   "id": "d688e927afd8c8cb",
   "outputs": [
    {
     "name": "stdout",
     "output_type": "stream",
     "text": [
      "❌ Error scraping FBref: 'NoneType' object has no attribute 'find_all'\n"
     ]
    }
   ],
   "execution_count": 9
  },
  {
   "metadata": {},
   "cell_type": "code",
   "outputs": [],
   "execution_count": null,
   "source": "",
   "id": "3fee31e7da5f1aeb"
  }
 ],
 "metadata": {
  "kernelspec": {
   "display_name": "Python 3",
   "language": "python",
   "name": "python3"
  },
  "language_info": {
   "codemirror_mode": {
    "name": "ipython",
    "version": 2
   },
   "file_extension": ".py",
   "mimetype": "text/x-python",
   "name": "python",
   "nbconvert_exporter": "python",
   "pygments_lexer": "ipython2",
   "version": "2.7.6"
  }
 },
 "nbformat": 4,
 "nbformat_minor": 5
}

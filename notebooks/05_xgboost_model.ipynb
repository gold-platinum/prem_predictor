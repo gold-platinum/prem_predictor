{
 "cells": [
  {
   "metadata": {},
   "cell_type": "markdown",
   "source": "# 05. Model Training",
   "id": "aee960fd2f1d0dc4"
  },
  {
   "metadata": {
    "ExecuteTime": {
     "end_time": "2025-08-26T13:38:32.592721Z",
     "start_time": "2025-08-26T13:38:32.588514Z"
    }
   },
   "cell_type": "code",
   "source": [
    "# Importing libraries\n",
    "import numpy as np\n",
    "import pandas as pd\n",
    "import matplotlib.pyplot as plt\n",
    "from sklearn.model_selection import train_test_split\n",
    "from sklearn.metrics import accuracy_score, classification_report, confusion_matrix\n",
    "from sklearn.preprocessing import LabelEncoder\n",
    "import joblib"
   ],
   "id": "260bd8e899553306",
   "outputs": [],
   "execution_count": 3
  },
  {
   "metadata": {
    "ExecuteTime": {
     "end_time": "2025-08-26T13:45:26.608585Z",
     "start_time": "2025-08-26T13:45:26.587844Z"
    }
   },
   "cell_type": "code",
   "source": [
    "# Importing dataset\n",
    "\n",
    "df = pd.read_csv('../data/processed/dataset_processed.csv')\n",
    "df.info()"
   ],
   "id": "ccbf716142bf1b47",
   "outputs": [
    {
     "name": "stdout",
     "output_type": "stream",
     "text": [
      "<class 'pandas.core.frame.DataFrame'>\n",
      "RangeIndex: 760 entries, 0 to 759\n",
      "Data columns (total 34 columns):\n",
      " #   Column        Non-Null Count  Dtype  \n",
      "---  ------        --------------  -----  \n",
      " 0   Round         760 non-null    int64  \n",
      " 1   Day           760 non-null    object \n",
      " 2   Venue         760 non-null    object \n",
      " 3   Result        760 non-null    int64  \n",
      " 4   GF            760 non-null    int64  \n",
      " 5   GA            760 non-null    int64  \n",
      " 6   Opponent      760 non-null    object \n",
      " 7   xG            760 non-null    float64\n",
      " 8   xGA           760 non-null    float64\n",
      " 9   Poss          760 non-null    float64\n",
      " 10  Sh            760 non-null    float64\n",
      " 11  SoT           760 non-null    float64\n",
      " 12  Dist          760 non-null    float64\n",
      " 13  FK            760 non-null    float64\n",
      " 14  PK            760 non-null    int64  \n",
      " 15  PKatt         760 non-null    int64  \n",
      " 16  Team          760 non-null    object \n",
      " 17  GD            760 non-null    int64  \n",
      " 18  xGD           760 non-null    float64\n",
      " 19  Home          760 non-null    int64  \n",
      " 20  GF_scaled     760 non-null    float64\n",
      " 21  GA_scaled     760 non-null    float64\n",
      " 22  xG_scaled     760 non-null    float64\n",
      " 23  xGA_scaled    760 non-null    float64\n",
      " 24  Poss_scaled   760 non-null    float64\n",
      " 25  Sh_scaled     760 non-null    float64\n",
      " 26  SoT_scaled    760 non-null    float64\n",
      " 27  Dist_scaled   760 non-null    float64\n",
      " 28  FK_scaled     760 non-null    float64\n",
      " 29  PK_scaled     760 non-null    float64\n",
      " 30  PKatt_scaled  760 non-null    float64\n",
      " 31  GD_scaled     760 non-null    float64\n",
      " 32  xGD_scaled    760 non-null    float64\n",
      " 33  Round_scaled  760 non-null    float64\n",
      "dtypes: float64(22), int64(8), object(4)\n",
      "memory usage: 202.0+ KB\n"
     ]
    }
   ],
   "execution_count": 6
  },
  {
   "metadata": {},
   "cell_type": "code",
   "outputs": [],
   "execution_count": null,
   "source": "",
   "id": "600252f374d46e2a"
  }
 ],
 "metadata": {
  "kernelspec": {
   "display_name": "Python 3",
   "language": "python",
   "name": "python3"
  },
  "language_info": {
   "codemirror_mode": {
    "name": "ipython",
    "version": 2
   },
   "file_extension": ".py",
   "mimetype": "text/x-python",
   "name": "python",
   "nbconvert_exporter": "python",
   "pygments_lexer": "ipython2",
   "version": "2.7.6"
  }
 },
 "nbformat": 4,
 "nbformat_minor": 5
}

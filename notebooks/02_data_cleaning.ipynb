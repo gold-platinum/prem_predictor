{
 "cells": [
  {
   "metadata": {},
   "cell_type": "markdown",
   "source": "# 02. Data Cleaning",
   "id": "5a33d6035293fbca"
  },
  {
   "metadata": {
    "ExecuteTime": {
     "end_time": "2025-08-25T19:31:44.995080Z",
     "start_time": "2025-08-25T19:31:44.549050Z"
    }
   },
   "cell_type": "code",
   "source": [
    "import pandas as pd\n",
    "import numpy as np"
   ],
   "id": "17bfadaaf691ebbd",
   "outputs": [],
   "execution_count": 1
  },
  {
   "metadata": {
    "ExecuteTime": {
     "end_time": "2025-08-25T20:13:21.200036Z",
     "start_time": "2025-08-25T20:13:21.183324Z"
    }
   },
   "cell_type": "code",
   "source": [
    "# Importing dataset\n",
    "df = pd.read_csv('../data/raw/matches.csv')"
   ],
   "id": "399dea8b220cfe91",
   "outputs": [],
   "execution_count": 3
  },
  {
   "metadata": {
    "ExecuteTime": {
     "end_time": "2025-08-25T20:28:11.993345Z",
     "start_time": "2025-08-25T20:28:11.981060Z"
    }
   },
   "cell_type": "code",
   "source": [
    "# Columns to remove and why\n",
    "\n",
    "columns_to_remove = {\n",
    "    'Season': 'Only one value (2023-24) - no variance',\n",
    "    'Date': 'Specific dates not needed for prediction',\n",
    "    'Time': 'Kickoff time has minimal impact',\n",
    "    'Comp': 'All Premier League - single value',\n",
    "    'Captain': 'Too granular, changes frequently',\n",
    "    'Formation': 'Too complex for simple model',\n",
    "    'Referee': 'Not a strong predictor',\n",
    "    'Match Report': 'Just a URL/link',\n",
    "    'Notes': 'Unstructured text field',\n",
    "    'Attendance': 'Weak correlation with results'\n",
    "}\n",
    "\n",
    "for col in columns_to_remove:\n",
    "    if col in df.columns:\n",
    "        df = df.drop(col, axis=1)\n",
    "    else:\n",
    "        print(f\"Incorrect name: {col}\")"
   ],
   "id": "68b3675df199437e",
   "outputs": [],
   "execution_count": 6
  },
  {
   "metadata": {
    "ExecuteTime": {
     "end_time": "2025-08-25T20:40:45.593573Z",
     "start_time": "2025-08-25T20:40:45.579091Z"
    }
   },
   "cell_type": "code",
   "source": [
    "# Standardizing names\n",
    "\n",
    "team_name_map = {\n",
    "    \"Man Utd\": \"Manchester United\",\n",
    "    \"ManchesterUnited\": \"Manchester United\",\n",
    "    \"Man City\": \"Manchester City\",\n",
    "    \"ManchesterCity\": \"Manchester City\",\n",
    "    \"Spurs\": \"Tottenham Hotspur\",\n",
    "    \"Tottenham\": \"Tottenham Hotspur\",\n",
    "    \"Arsenal\": \"Arsenal\",\n",
    "    \"Chelsea\": \"Chelsea\",\n",
    "    \"Liverpool\": \"Liverpool\",\n",
    "    \"Everton\": \"Everton\",\n",
    "    \"Aston Villa\": \"Aston Villa\",\n",
    "    \"Newcastle\": \"Newcastle United\",\n",
    "    \"Newcastle Utd\": \"Newcastle United\",\n",
    "    \"West Ham\": \"West Ham United\",\n",
    "    \"West Ham Utd\": \"West Ham United\",\n",
    "    \"Brighton\": \"Brighton and Hove Albion\",\n",
    "    \"Brighton & Hove Albion\": \"Brighton and Hove Albion\",\n",
    "    \"Bournemouth\": \"AFC Bournemouth\",\n",
    "    \"Sheffield Utd\": \"Sheffield United\",\n",
    "    \"Sheffield United\": \"Sheffield United\",\n",
    "    \"Wolves\": \"Wolverhampton Wanderers\",\n",
    "    \"Wolverhampton\": \"Wolverhampton Wanderers\",\n",
    "    \"Nottingham Forest\": \"Nottingham Forest\",\n",
    "    \"Nottm Forest\": \"Nottingham Forest\",\n",
    "    \"Fulham\": \"Fulham\",\n",
    "    \"Brentford\": \"Brentford\",\n",
    "    \"Crystal Palace\": \"Crystal Palace\",\n",
    "\n",
    "    # Promoted clubs mapped to relegated ones\n",
    "    \"Ipswich\": \"Luton Town\",\n",
    "    \"Ipswich Town\": \"Luton Town\",\n",
    "    \"Leicester\": \"Burnley\",\n",
    "    \"Leicester City\": \"Burnley\",\n",
    "    \"Southampton\": \"Sheffield United\",\n",
    "\n",
    "    # Relegated/others\n",
    "    \"Luton\": \"Luton Town\",\n",
    "    \"LutonTown\": \"Luton Town\",\n",
    "    \"Burnley\": \"Burnley\"\n",
    "}\n",
    "\n",
    "df[\"Team\"] = df[\"Team\"].replace(team_name_map)\n",
    "df[\"Opponent\"] = df[\"Opponent\"].replace(team_name_map)"
   ],
   "id": "202def34d36ff235",
   "outputs": [],
   "execution_count": 8
  },
  {
   "metadata": {
    "ExecuteTime": {
     "end_time": "2025-08-25T20:41:31.883657Z",
     "start_time": "2025-08-25T20:41:31.878409Z"
    }
   },
   "cell_type": "code",
   "source": "df.drop(\"Unnamed: 0\", axis=1, inplace=True)",
   "id": "f1fb6b33ce83e854",
   "outputs": [],
   "execution_count": 11
  },
  {
   "metadata": {
    "ExecuteTime": {
     "end_time": "2025-08-25T20:46:53.127603Z",
     "start_time": "2025-08-25T20:46:53.120324Z"
    }
   },
   "cell_type": "code",
   "source": [
    "# Extracting number from round\n",
    "\n",
    "df[\"Round\"] = df[\"Round\"].str.replace(\"Matchweek \", \"\").astype(int)"
   ],
   "id": "d82a7a070124258c",
   "outputs": [],
   "execution_count": 15
  },
  {
   "metadata": {
    "ExecuteTime": {
     "end_time": "2025-08-25T20:46:55.877677Z",
     "start_time": "2025-08-25T20:46:55.863469Z"
    }
   },
   "cell_type": "code",
   "source": "df.head()",
   "id": "4e667c751cbdba36",
   "outputs": [
    {
     "data": {
      "text/plain": [
       "   Round  Day Venue Result  GF  GA          Opponent   xG  xGA  Poss    Sh  \\\n",
       "0      1  Fri  Away      W   3   0           Burnley  1.9  0.3  65.0  17.0   \n",
       "1      2  Sat  Home      W   1   0  Newcastle United  1.0  0.3  59.0  14.0   \n",
       "2      3  Sun  Away      W   2   1  Sheffield United  3.5  0.7  79.0  29.0   \n",
       "3      4  Sat  Home      W   5   1            Fulham  2.2  1.4  68.0   6.0   \n",
       "4      5  Sat  Away      W   3   1   West Ham United  3.6  0.9  68.0  29.0   \n",
       "\n",
       "    SoT  Dist   FK  PK  PKatt             Team  \n",
       "0   8.0  13.9  0.0   0      0  Manchester City  \n",
       "1   4.0  17.9  0.0   0      0  Manchester City  \n",
       "2   9.0  17.3  2.0   0      1  Manchester City  \n",
       "3   4.0  14.8  0.0   1      1  Manchester City  \n",
       "4  13.0  16.4  1.0   0      0  Manchester City  "
      ],
      "text/html": [
       "<div>\n",
       "<style scoped>\n",
       "    .dataframe tbody tr th:only-of-type {\n",
       "        vertical-align: middle;\n",
       "    }\n",
       "\n",
       "    .dataframe tbody tr th {\n",
       "        vertical-align: top;\n",
       "    }\n",
       "\n",
       "    .dataframe thead th {\n",
       "        text-align: right;\n",
       "    }\n",
       "</style>\n",
       "<table border=\"1\" class=\"dataframe\">\n",
       "  <thead>\n",
       "    <tr style=\"text-align: right;\">\n",
       "      <th></th>\n",
       "      <th>Round</th>\n",
       "      <th>Day</th>\n",
       "      <th>Venue</th>\n",
       "      <th>Result</th>\n",
       "      <th>GF</th>\n",
       "      <th>GA</th>\n",
       "      <th>Opponent</th>\n",
       "      <th>xG</th>\n",
       "      <th>xGA</th>\n",
       "      <th>Poss</th>\n",
       "      <th>Sh</th>\n",
       "      <th>SoT</th>\n",
       "      <th>Dist</th>\n",
       "      <th>FK</th>\n",
       "      <th>PK</th>\n",
       "      <th>PKatt</th>\n",
       "      <th>Team</th>\n",
       "    </tr>\n",
       "  </thead>\n",
       "  <tbody>\n",
       "    <tr>\n",
       "      <th>0</th>\n",
       "      <td>1</td>\n",
       "      <td>Fri</td>\n",
       "      <td>Away</td>\n",
       "      <td>W</td>\n",
       "      <td>3</td>\n",
       "      <td>0</td>\n",
       "      <td>Burnley</td>\n",
       "      <td>1.9</td>\n",
       "      <td>0.3</td>\n",
       "      <td>65.0</td>\n",
       "      <td>17.0</td>\n",
       "      <td>8.0</td>\n",
       "      <td>13.9</td>\n",
       "      <td>0.0</td>\n",
       "      <td>0</td>\n",
       "      <td>0</td>\n",
       "      <td>Manchester City</td>\n",
       "    </tr>\n",
       "    <tr>\n",
       "      <th>1</th>\n",
       "      <td>2</td>\n",
       "      <td>Sat</td>\n",
       "      <td>Home</td>\n",
       "      <td>W</td>\n",
       "      <td>1</td>\n",
       "      <td>0</td>\n",
       "      <td>Newcastle United</td>\n",
       "      <td>1.0</td>\n",
       "      <td>0.3</td>\n",
       "      <td>59.0</td>\n",
       "      <td>14.0</td>\n",
       "      <td>4.0</td>\n",
       "      <td>17.9</td>\n",
       "      <td>0.0</td>\n",
       "      <td>0</td>\n",
       "      <td>0</td>\n",
       "      <td>Manchester City</td>\n",
       "    </tr>\n",
       "    <tr>\n",
       "      <th>2</th>\n",
       "      <td>3</td>\n",
       "      <td>Sun</td>\n",
       "      <td>Away</td>\n",
       "      <td>W</td>\n",
       "      <td>2</td>\n",
       "      <td>1</td>\n",
       "      <td>Sheffield United</td>\n",
       "      <td>3.5</td>\n",
       "      <td>0.7</td>\n",
       "      <td>79.0</td>\n",
       "      <td>29.0</td>\n",
       "      <td>9.0</td>\n",
       "      <td>17.3</td>\n",
       "      <td>2.0</td>\n",
       "      <td>0</td>\n",
       "      <td>1</td>\n",
       "      <td>Manchester City</td>\n",
       "    </tr>\n",
       "    <tr>\n",
       "      <th>3</th>\n",
       "      <td>4</td>\n",
       "      <td>Sat</td>\n",
       "      <td>Home</td>\n",
       "      <td>W</td>\n",
       "      <td>5</td>\n",
       "      <td>1</td>\n",
       "      <td>Fulham</td>\n",
       "      <td>2.2</td>\n",
       "      <td>1.4</td>\n",
       "      <td>68.0</td>\n",
       "      <td>6.0</td>\n",
       "      <td>4.0</td>\n",
       "      <td>14.8</td>\n",
       "      <td>0.0</td>\n",
       "      <td>1</td>\n",
       "      <td>1</td>\n",
       "      <td>Manchester City</td>\n",
       "    </tr>\n",
       "    <tr>\n",
       "      <th>4</th>\n",
       "      <td>5</td>\n",
       "      <td>Sat</td>\n",
       "      <td>Away</td>\n",
       "      <td>W</td>\n",
       "      <td>3</td>\n",
       "      <td>1</td>\n",
       "      <td>West Ham United</td>\n",
       "      <td>3.6</td>\n",
       "      <td>0.9</td>\n",
       "      <td>68.0</td>\n",
       "      <td>29.0</td>\n",
       "      <td>13.0</td>\n",
       "      <td>16.4</td>\n",
       "      <td>1.0</td>\n",
       "      <td>0</td>\n",
       "      <td>0</td>\n",
       "      <td>Manchester City</td>\n",
       "    </tr>\n",
       "  </tbody>\n",
       "</table>\n",
       "</div>"
      ]
     },
     "execution_count": 16,
     "metadata": {},
     "output_type": "execute_result"
    }
   ],
   "execution_count": 16
  },
  {
   "metadata": {
    "ExecuteTime": {
     "end_time": "2025-08-25T20:49:12.505735Z",
     "start_time": "2025-08-25T20:49:12.477149Z"
    }
   },
   "cell_type": "code",
   "source": [
    "# Saving dataset\n",
    "\n",
    "df.to_csv('../data/processed/dataset_cleaned.csv', index=False)"
   ],
   "id": "bac8f5de9cb61b80",
   "outputs": [],
   "execution_count": 17
  }
 ],
 "metadata": {
  "kernelspec": {
   "display_name": "Python 3",
   "language": "python",
   "name": "python3"
  },
  "language_info": {
   "codemirror_mode": {
    "name": "ipython",
    "version": 2
   },
   "file_extension": ".py",
   "mimetype": "text/x-python",
   "name": "python",
   "nbconvert_exporter": "python",
   "pygments_lexer": "ipython2",
   "version": "2.7.6"
  }
 },
 "nbformat": 4,
 "nbformat_minor": 5
}

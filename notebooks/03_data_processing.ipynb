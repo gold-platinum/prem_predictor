{
 "cells": [
  {
   "metadata": {},
   "cell_type": "markdown",
   "source": "# 03. Data Processing",
   "id": "cb7d7ac1e4ab2fa7"
  },
  {
   "metadata": {
    "ExecuteTime": {
     "end_time": "2025-08-26T13:50:26.364549Z",
     "start_time": "2025-08-26T13:50:24.819302Z"
    }
   },
   "cell_type": "code",
   "source": [
    "import pandas as pd\n",
    "import numpy as np\n",
    "from sklearn.preprocessing import LabelEncoder\n",
    "from sklearn.preprocessing import OneHotEncoder"
   ],
   "id": "255a6f4337941562",
   "outputs": [],
   "execution_count": 1
  },
  {
   "metadata": {
    "ExecuteTime": {
     "end_time": "2025-08-26T13:50:40.708530Z",
     "start_time": "2025-08-26T13:50:40.697959Z"
    }
   },
   "cell_type": "code",
   "source": [
    "# Importing dataset\n",
    "\n",
    "df = pd.read_csv('../data/processed/dataset_cleaned.csv')"
   ],
   "id": "66155cdd49e1dac1",
   "outputs": [],
   "execution_count": 2
  },
  {
   "metadata": {
    "ExecuteTime": {
     "end_time": "2025-08-26T13:50:42.615706Z",
     "start_time": "2025-08-26T13:50:42.610315Z"
    }
   },
   "cell_type": "code",
   "source": [
    "# Converting result_map to numbers\n",
    "result_map = {\"W\": 1, \"D\": 0, \"L\": -1}\n",
    "df[\"Result\"] = df[\"Result\"].map(result_map)"
   ],
   "id": "a7a79106e8da8ae1",
   "outputs": [],
   "execution_count": 3
  },
  {
   "metadata": {
    "ExecuteTime": {
     "end_time": "2025-08-26T13:50:45.517291Z",
     "start_time": "2025-08-26T13:50:45.511336Z"
    }
   },
   "cell_type": "code",
   "source": [
    "# Feature Engineering GD, xGD, Home\n",
    "\n",
    "df[\"GD\"] = df[\"GF\"] - df[\"GA\"]\n",
    "df[\"xGD\"] = df[\"xG\"] - df[\"xGA\"]\n",
    "df[\"Home\"] = (df[\"Venue\"] == \"Home\").astype(int)"
   ],
   "id": "c3a6f666f43e66e8",
   "outputs": [],
   "execution_count": 4
  },
  {
   "metadata": {
    "ExecuteTime": {
     "end_time": "2025-08-26T13:50:49.131271Z",
     "start_time": "2025-08-26T13:50:49.122271Z"
    }
   },
   "cell_type": "code",
   "source": [
    "# Scaling features\n",
    "\n",
    "from sklearn.preprocessing import StandardScaler\n",
    "\n",
    "# list of continuous features\n",
    "scale_cols = [\"GF\", \"GA\", \"xG\", \"xGA\", \"Poss\", \"Sh\", \"SoT\", \n",
    "              \"Dist\", \"FK\", \"PK\", \"PKatt\", \"GD\", \"xGD\", \"Round\"]\n",
    "\n",
    "scaler = StandardScaler()\n",
    "\n",
    "# fit and transform\n",
    "scaled_values = scaler.fit_transform(df[scale_cols])\n",
    "\n",
    "# create new columns with suffix \"_scaled\"\n",
    "scaled_df = pd.DataFrame(\n",
    "    scaled_values, \n",
    "    columns=[col + \"_scaled\" for col in scale_cols],\n",
    "    index=df.index\n",
    ")\n",
    "\n",
    "# merge back into df\n",
    "df = pd.concat([df, scaled_df], axis=1)"
   ],
   "id": "deaae497d8986470",
   "outputs": [],
   "execution_count": 5
  },
  {
   "metadata": {
    "ExecuteTime": {
     "end_time": "2025-08-26T13:50:52.735610Z",
     "start_time": "2025-08-26T13:50:52.542917Z"
    }
   },
   "cell_type": "code",
   "source": [
    "# Duplicate matches need to be fixed\n",
    "    \n",
    "if 'Venue' in df.columns:\n",
    "    \n",
    "    df_home = df[df['Venue'] == 'Home'].copy()\n",
    "    \n",
    "    df_home = df_home.rename(columns={\n",
    "        'Team': 'Home_Team',\n",
    "        'Opponent': 'Away_Team',\n",
    "        'GF': 'Home_Goals',\n",
    "        'GA': 'Away_Goals',\n",
    "        'xG': 'Home_xG',\n",
    "        'xGA': 'Away_xG',\n",
    "        'Poss': 'Home_Poss',\n",
    "        'Sh': 'Home_Shots',\n",
    "        'SoT': 'Home_SoT'\n",
    "    })\n",
    "    \n",
    "    away_stats = []\n",
    "    for idx, row in df_home.iterrows():\n",
    "        away_match = df[(df['Team'] == row['Away_Team']) & \n",
    "                      (df['Opponent'] == row['Home_Team']) & \n",
    "                      (df['Round'] == row['Round'])]\n",
    "        \n",
    "        if len(away_match) > 0:\n",
    "            away_match = away_match.iloc[0]\n",
    "            away_stats.append({\n",
    "                'Away_Poss': away_match['Poss'],\n",
    "                'Away_Shots': away_match['Sh'],\n",
    "                'Away_SoT': away_match['SoT'],\n",
    "                'Away_xG': away_match['xG'],\n",
    "                'Away_xGA': away_match['xGA']\n",
    "            })\n",
    "        else:\n",
    "            # If no match found, estimate from home stats\n",
    "            away_stats.append({\n",
    "                'Away_Poss': 100 - row['Home_Poss'],\n",
    "                'Away_Shots': row['Home_Shots'] * 0.8,  # Estimate\n",
    "                'Away_SoT': row['Home_SoT'] * 0.8,\n",
    "                'Away_xG': row['Away_xG'],\n",
    "                'Away_xGA': row['Home_xG']\n",
    "            })\n",
    "    \n",
    "    # Add away stats to dataframe\n",
    "    away_df = pd.DataFrame(away_stats)\n",
    "    df_matches = pd.concat([df_home.reset_index(drop=True), away_df], axis=1)\n",
    "    \n",
    "    # Convert Result column (W/D/L from home perspective to H/D/A)\n",
    "    result_map = {'W': 'H', 'D': 'D', 'L': 'A'}\n",
    "    if df_matches['Result'].dtype == 'object':\n",
    "        df_matches['Result'] = df_matches['Result'].map(result_map)\n",
    "    elif df_matches['Result'].dtype in ['int64', 'float64']:\n",
    "        # If Result is numeric (1=Win, 0=Draw, -1=Loss)\n",
    "        df_matches['Result'] = df_matches['Result'].map({1: 'H', 0: 'D', -1: 'A'})\n",
    "    \n",
    "    "
   ],
   "id": "74826c6e84c939e4",
   "outputs": [],
   "execution_count": 6
  },
  {
   "metadata": {
    "ExecuteTime": {
     "end_time": "2025-08-26T14:01:20.256202Z",
     "start_time": "2025-08-26T14:01:20.240794Z"
    }
   },
   "cell_type": "code",
   "source": "df_matches.to_csv('../data/processed/dataset_processed.csv', index=False)",
   "id": "e64f920c450144ef",
   "outputs": [],
   "execution_count": 11
  },
  {
   "metadata": {
    "ExecuteTime": {
     "end_time": "2025-08-26T14:00:57.918865Z",
     "start_time": "2025-08-26T14:00:57.910389Z"
    }
   },
   "cell_type": "code",
   "source": "df_matches.info()",
   "id": "fbb1218cb76cc050",
   "outputs": [
    {
     "name": "stdout",
     "output_type": "stream",
     "text": [
      "<class 'pandas.core.frame.DataFrame'>\n",
      "RangeIndex: 380 entries, 0 to 379\n",
      "Data columns (total 39 columns):\n",
      " #   Column        Non-Null Count  Dtype  \n",
      "---  ------        --------------  -----  \n",
      " 0   Round         380 non-null    int64  \n",
      " 1   Day           380 non-null    object \n",
      " 2   Venue         380 non-null    object \n",
      " 3   Result        380 non-null    object \n",
      " 4   Home_Goals    380 non-null    int64  \n",
      " 5   Away_Goals    380 non-null    int64  \n",
      " 6   Away_Team     380 non-null    object \n",
      " 7   Home_xG       380 non-null    float64\n",
      " 8   Away_xG       380 non-null    float64\n",
      " 9   Home_Poss     380 non-null    float64\n",
      " 10  Home_Shots    380 non-null    float64\n",
      " 11  Home_SoT      380 non-null    float64\n",
      " 12  Dist          380 non-null    float64\n",
      " 13  FK            380 non-null    float64\n",
      " 14  PK            380 non-null    int64  \n",
      " 15  PKatt         380 non-null    int64  \n",
      " 16  Home_Team     380 non-null    object \n",
      " 17  GD            380 non-null    int64  \n",
      " 18  xGD           380 non-null    float64\n",
      " 19  Home          380 non-null    int64  \n",
      " 20  GF_scaled     380 non-null    float64\n",
      " 21  GA_scaled     380 non-null    float64\n",
      " 22  xG_scaled     380 non-null    float64\n",
      " 23  xGA_scaled    380 non-null    float64\n",
      " 24  Poss_scaled   380 non-null    float64\n",
      " 25  Sh_scaled     380 non-null    float64\n",
      " 26  SoT_scaled    380 non-null    float64\n",
      " 27  Dist_scaled   380 non-null    float64\n",
      " 28  FK_scaled     380 non-null    float64\n",
      " 29  PK_scaled     380 non-null    float64\n",
      " 30  PKatt_scaled  380 non-null    float64\n",
      " 31  GD_scaled     380 non-null    float64\n",
      " 32  xGD_scaled    380 non-null    float64\n",
      " 33  Round_scaled  380 non-null    float64\n",
      " 34  Away_Poss     380 non-null    float64\n",
      " 35  Away_Shots    380 non-null    float64\n",
      " 36  Away_SoT      380 non-null    float64\n",
      " 37  Away_xG       380 non-null    float64\n",
      " 38  Away_xGA      380 non-null    float64\n",
      "dtypes: float64(27), int64(7), object(5)\n",
      "memory usage: 115.9+ KB\n"
     ]
    }
   ],
   "execution_count": 10
  }
 ],
 "metadata": {
  "kernelspec": {
   "display_name": "Python 3",
   "language": "python",
   "name": "python3"
  },
  "language_info": {
   "codemirror_mode": {
    "name": "ipython",
    "version": 2
   },
   "file_extension": ".py",
   "mimetype": "text/x-python",
   "name": "python",
   "nbconvert_exporter": "python",
   "pygments_lexer": "ipython2",
   "version": "2.7.6"
  }
 },
 "nbformat": 4,
 "nbformat_minor": 5
}

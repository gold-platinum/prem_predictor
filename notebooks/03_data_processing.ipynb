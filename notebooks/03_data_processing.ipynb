{
 "cells": [
  {
   "metadata": {},
   "cell_type": "markdown",
   "source": "# 03. Data Processing",
   "id": "cb7d7ac1e4ab2fa7"
  },
  {
   "metadata": {
    "ExecuteTime": {
     "end_time": "2025-08-25T22:46:02.994837Z",
     "start_time": "2025-08-25T22:46:00.860562Z"
    }
   },
   "cell_type": "code",
   "source": [
    "import pandas as pd\n",
    "import numpy as np\n",
    "from sklearn.preprocessing import LabelEncoder\n",
    "from sklearn.preprocessing import OneHotEncoder"
   ],
   "id": "255a6f4337941562",
   "outputs": [
    {
     "name": "stderr",
     "output_type": "stream",
     "text": [
      "\n",
      "KeyboardInterrupt\n",
      "\n",
      "\n",
      "KeyboardInterrupt\n",
      "\n"
     ]
    }
   ],
   "execution_count": null
  },
  {
   "metadata": {
    "ExecuteTime": {
     "end_time": "2025-08-25T22:46:03.005081Z",
     "start_time": "2025-08-25T22:46:03.004081Z"
    }
   },
   "cell_type": "code",
   "source": [
    "# Importing dataset\n",
    "\n",
    "df = pd.read_csv('../data/processed/dataset_cleaned.csv')"
   ],
   "id": "66155cdd49e1dac1",
   "outputs": [],
   "execution_count": null
  },
  {
   "metadata": {},
   "cell_type": "code",
   "source": [
    "# Converting result_map to numbers\n",
    "result_map = {\"W\": 1, \"D\": 0, \"L\": -1}\n",
    "df[\"Result\"] = df[\"Result\"].map(result_map)"
   ],
   "id": "a7a79106e8da8ae1",
   "outputs": [],
   "execution_count": null
  },
  {
   "metadata": {},
   "cell_type": "code",
   "source": [
    "# Feature Engineering GD, xGD, Home\n",
    "\n",
    "df[\"GD\"] = df[\"GF\"] - df[\"GA\"]\n",
    "df[\"xGD\"] = df[\"xG\"] - df[\"xGA\"]\n",
    "df[\"Home\"] = (df[\"Venue\"] == \"Home\").astype(int)"
   ],
   "id": "c3a6f666f43e66e8",
   "outputs": [],
   "execution_count": null
  },
  {
   "metadata": {},
   "cell_type": "code",
   "source": [
    "# Encoding Team and Opponent\n",
    "\n",
    "le = LabelEncoder()\n",
    "df[\"Home\"] = le.fit_transform(df[\"Home\"])\n",
    "df[\"Opponent\"] = le.fit_transform(df[\"Opponent\"])"
   ],
   "id": "1af232e7e5e2dfde",
   "outputs": [],
   "execution_count": null
  },
  {
   "metadata": {},
   "cell_type": "code",
   "source": [
    "# Scaling features\n",
    "\n",
    "from sklearn.preprocessing import StandardScaler\n",
    "\n",
    "# list of continuous features\n",
    "scale_cols = [\"GF\", \"GA\", \"xG\", \"xGA\", \"Poss\", \"Sh\", \"SoT\", \n",
    "              \"Dist\", \"FK\", \"PK\", \"PKatt\", \"GD\", \"xGD\", \"Round\"]\n",
    "\n",
    "scaler = StandardScaler()\n",
    "\n",
    "# fit and transform\n",
    "scaled_values = scaler.fit_transform(df[scale_cols])\n",
    "\n",
    "# create new columns with suffix \"_scaled\"\n",
    "scaled_df = pd.DataFrame(\n",
    "    scaled_values, \n",
    "    columns=[col + \"_scaled\" for col in scale_cols],\n",
    "    index=df.index\n",
    ")\n",
    "\n",
    "# merge back into df\n",
    "df = pd.concat([df, scaled_df], axis=1)"
   ],
   "id": "deaae497d8986470",
   "outputs": [],
   "execution_count": null
  },
  {
   "metadata": {},
   "cell_type": "code",
   "source": "df.to_csv('../data/processed/dataset_processed.csv', index=False)",
   "id": "e64f920c450144ef",
   "outputs": [],
   "execution_count": null
  },
  {
   "metadata": {},
   "cell_type": "code",
   "source": "",
   "id": "fbb1218cb76cc050",
   "outputs": [],
   "execution_count": null
  }
 ],
 "metadata": {
  "kernelspec": {
   "display_name": "Python 3",
   "language": "python",
   "name": "python3"
  },
  "language_info": {
   "codemirror_mode": {
    "name": "ipython",
    "version": 2
   },
   "file_extension": ".py",
   "mimetype": "text/x-python",
   "name": "python",
   "nbconvert_exporter": "python",
   "pygments_lexer": "ipython2",
   "version": "2.7.6"
  }
 },
 "nbformat": 4,
 "nbformat_minor": 5
}

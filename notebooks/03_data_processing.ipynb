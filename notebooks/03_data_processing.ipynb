{
 "cells": [
  {
   "metadata": {},
   "cell_type": "markdown",
   "source": "# 03. Data Processing",
   "id": "cb7d7ac1e4ab2fa7"
  },
  {
   "metadata": {
    "ExecuteTime": {
     "end_time": "2025-08-26T13:37:59.494286Z",
     "start_time": "2025-08-26T13:37:58.286632Z"
    }
   },
   "cell_type": "code",
   "source": [
    "import pandas as pd\n",
    "import numpy as np\n",
    "from sklearn.preprocessing import LabelEncoder\n",
    "from sklearn.preprocessing import OneHotEncoder"
   ],
   "id": "255a6f4337941562",
   "outputs": [],
   "execution_count": 1
  },
  {
   "metadata": {
    "ExecuteTime": {
     "end_time": "2025-08-26T13:38:01.042082Z",
     "start_time": "2025-08-26T13:38:00.955592Z"
    }
   },
   "cell_type": "code",
   "source": [
    "# Importing dataset\n",
    "\n",
    "df = pd.read_csv('../data/processed/dataset_cleaned.csv')"
   ],
   "id": "66155cdd49e1dac1",
   "outputs": [],
   "execution_count": 2
  },
  {
   "metadata": {
    "ExecuteTime": {
     "end_time": "2025-08-26T13:38:02.073663Z",
     "start_time": "2025-08-26T13:38:02.068758Z"
    }
   },
   "cell_type": "code",
   "source": [
    "# Converting result_map to numbers\n",
    "result_map = {\"W\": 1, \"D\": 0, \"L\": -1}\n",
    "df[\"Result\"] = df[\"Result\"].map(result_map)"
   ],
   "id": "a7a79106e8da8ae1",
   "outputs": [],
   "execution_count": 3
  },
  {
   "metadata": {
    "ExecuteTime": {
     "end_time": "2025-08-26T13:38:03.200017Z",
     "start_time": "2025-08-26T13:38:03.193589Z"
    }
   },
   "cell_type": "code",
   "source": [
    "# Feature Engineering GD, xGD, Home\n",
    "\n",
    "df[\"GD\"] = df[\"GF\"] - df[\"GA\"]\n",
    "df[\"xGD\"] = df[\"xG\"] - df[\"xGA\"]\n",
    "df[\"Home\"] = (df[\"Venue\"] == \"Home\").astype(int)"
   ],
   "id": "c3a6f666f43e66e8",
   "outputs": [],
   "execution_count": 4
  },
  {
   "metadata": {
    "ExecuteTime": {
     "end_time": "2025-08-26T13:38:03.999487Z",
     "start_time": "2025-08-26T13:38:03.990348Z"
    }
   },
   "cell_type": "code",
   "source": [
    "# Scaling features\n",
    "\n",
    "from sklearn.preprocessing import StandardScaler\n",
    "\n",
    "# list of continuous features\n",
    "scale_cols = [\"GF\", \"GA\", \"xG\", \"xGA\", \"Poss\", \"Sh\", \"SoT\", \n",
    "              \"Dist\", \"FK\", \"PK\", \"PKatt\", \"GD\", \"xGD\", \"Round\"]\n",
    "\n",
    "scaler = StandardScaler()\n",
    "\n",
    "# fit and transform\n",
    "scaled_values = scaler.fit_transform(df[scale_cols])\n",
    "\n",
    "# create new columns with suffix \"_scaled\"\n",
    "scaled_df = pd.DataFrame(\n",
    "    scaled_values, \n",
    "    columns=[col + \"_scaled\" for col in scale_cols],\n",
    "    index=df.index\n",
    ")\n",
    "\n",
    "# merge back into df\n",
    "df = pd.concat([df, scaled_df], axis=1)"
   ],
   "id": "deaae497d8986470",
   "outputs": [],
   "execution_count": 5
  },
  {
   "metadata": {
    "ExecuteTime": {
     "end_time": "2025-08-26T13:38:05.431925Z",
     "start_time": "2025-08-26T13:38:05.410186Z"
    }
   },
   "cell_type": "code",
   "source": "df.to_csv('../data/processed/dataset_processed.csv', index=False)",
   "id": "e64f920c450144ef",
   "outputs": [],
   "execution_count": 6
  },
  {
   "metadata": {},
   "cell_type": "code",
   "source": "",
   "id": "fbb1218cb76cc050",
   "outputs": [],
   "execution_count": null
  }
 ],
 "metadata": {
  "kernelspec": {
   "display_name": "Python 3",
   "language": "python",
   "name": "python3"
  },
  "language_info": {
   "codemirror_mode": {
    "name": "ipython",
    "version": 2
   },
   "file_extension": ".py",
   "mimetype": "text/x-python",
   "name": "python",
   "nbconvert_exporter": "python",
   "pygments_lexer": "ipython2",
   "version": "2.7.6"
  }
 },
 "nbformat": 4,
 "nbformat_minor": 5
}
